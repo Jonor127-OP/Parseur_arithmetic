{
 "cells": [
  {
   "cell_type": "markdown",
   "metadata": {},
   "source": [
    "# Notebook création données parseur arithmétique"
   ]
  },
  {
   "cell_type": "code",
   "execution_count": 17,
   "metadata": {},
   "outputs": [],
   "source": [
    "import numpy as np\n",
    "import pandas as pd\n",
    "\n",
    "import sys\n",
    "sys.path.append('/Users/n.beau/Desktop/Parseur_arithmetic')\n",
    "\n",
    "from parseur_AE_simple.analysis_syntax_AE import Parser\n",
    "from parseur_AE_simple.analysis_lexical_AE import Lexical\n",
    "\n",
    "from sklearn import preprocessing"
   ]
  },
  {
   "cell_type": "code",
   "execution_count": 10,
   "metadata": {},
   "outputs": [
    {
     "name": "stdout",
     "output_type": "stream",
     "text": [
      "L'expression est valide\n"
     ]
    }
   ],
   "source": [
    "test = Lexical('2*2+2/2-2')\n",
    "testparse = Parser(test.lexicalAnalysis())\n",
    "testparse.parsing()"
   ]
  },
  {
   "cell_type": "code",
   "execution_count": 12,
   "metadata": {},
   "outputs": [],
   "source": [
    "action = np.array(testparse.action)"
   ]
  },
  {
   "cell_type": "code",
   "execution_count": 14,
   "metadata": {},
   "outputs": [
    {
     "name": "stdout",
     "output_type": "stream",
     "text": [
      "['NUMBER' 'DOT' 'DOT' 'NUMBER' 'ADD' 'ADD' 'ADD' 'NUMBER' 'DIVIDE'\n",
      " 'DIVIDE' 'NUMBER' 'MINUS' 'MINUS' 'MINUS' 'MINUS' 'NUMBER' 'None' 'None']\n"
     ]
    }
   ],
   "source": [
    "def fenetre_test(fenetre):\n",
    "    fenetre_return = list()\n",
    "    for x in fenetre:\n",
    "        if x == None:\n",
    "            fenetre_return.append('None')\n",
    "        else: \n",
    "            fenetre_return.append(x[0])\n",
    "    return fenetre_return\n",
    "\n",
    "fenetre = np.array(fenetre_test(testparse.fenetre_stock))\n",
    "print(fenetre)"
   ]
  },
  {
   "cell_type": "code",
   "execution_count": 15,
   "metadata": {},
   "outputs": [],
   "source": [
    "pile_stock = np.array(testparse.pile_stock)"
   ]
  },
  {
   "cell_type": "code",
   "execution_count": 19,
   "metadata": {},
   "outputs": [
    {
     "name": "stdout",
     "output_type": "stream",
     "text": [
      "[1 0 1 1 0 0 1 1 0 1 1 0 0 0 1 1 0 0]\n"
     ]
    }
   ],
   "source": [
    "# integer encode of SHIFT/REDUCE\n",
    "label_encoder = preprocessing.LabelEncoder()\n",
    "integer_encoded = label_encoder.fit_transform(action)\n",
    "print(integer_encoded)"
   ]
  },
  {
   "cell_type": "markdown",
   "metadata": {},
   "source": [
    "# il faut cleener la forme des données avant de les mettre dans le dataset"
   ]
  },
  {
   "cell_type": "code",
   "execution_count": 20,
   "metadata": {},
   "outputs": [],
   "source": [
    "datas = pd.DataFrame(data = {'fenetre':fenetre, 'pile':pile_stock, 'label':integer_encoded})"
   ]
  },
  {
   "cell_type": "code",
   "execution_count": 21,
   "metadata": {},
   "outputs": [
    {
     "name": "stdout",
     "output_type": "stream",
     "text": [
      "   fenetre                                               pile  label\n",
      "0   NUMBER                                                 []      1\n",
      "1      DOT                                           [NUMBER]      0\n",
      "2      DOT                                       [EXPRESSION]      1\n",
      "3   NUMBER                                  [EXPRESSION, DOT]      1\n",
      "4      ADD                          [EXPRESSION, DOT, NUMBER]      0\n",
      "5      ADD                      [EXPRESSION, DOT, EXPRESSION]      0\n",
      "6      ADD                                       [EXPRESSION]      1\n",
      "7   NUMBER                                  [EXPRESSION, ADD]      1\n",
      "8   DIVIDE                          [EXPRESSION, ADD, NUMBER]      0\n",
      "9   DIVIDE                      [EXPRESSION, ADD, EXPRESSION]      1\n",
      "10  NUMBER              [EXPRESSION, ADD, EXPRESSION, DIVIDE]      1\n",
      "11   MINUS      [EXPRESSION, ADD, EXPRESSION, DIVIDE, NUMBER]      0\n",
      "12   MINUS  [EXPRESSION, ADD, EXPRESSION, DIVIDE, EXPRESSION]      0\n",
      "13   MINUS                      [EXPRESSION, ADD, EXPRESSION]      0\n",
      "14   MINUS                                       [EXPRESSION]      1\n",
      "15  NUMBER                                [EXPRESSION, MINUS]      1\n",
      "16    None                        [EXPRESSION, MINUS, NUMBER]      0\n",
      "17    None                    [EXPRESSION, MINUS, EXPRESSION]      0\n"
     ]
    }
   ],
   "source": [
    "print(datas)"
   ]
  },
  {
   "cell_type": "code",
   "execution_count": 31,
   "metadata": {},
   "outputs": [],
   "source": [
    "def data_cleening_fenetre(series_object):\n",
    "    for i, x in enumerate(series_object):\n",
    "        if x == 'NUMBER':\n",
    "            series_object[i] = np.array([1, 0, 0, 0, 0, 0, 0])\n",
    "        elif x == 'EXPR':\n",
    "            series_object[i] = np.array([0, 1, 0, 0, 0, 0, 0])\n",
    "        elif x == 'DOT':\n",
    "            series_object[i] = np.array([0, 0, 1, 0, 0, 0, 0])\n",
    "        elif x == 'DIVIDE':\n",
    "            series_object[i] = np.array([0, 0, 0, 1, 0, 0, 0])\n",
    "        elif x == 'ADD':\n",
    "            series_object[i] = np.array([0, 0, 0, 0, 1, 0, 0])\n",
    "        elif x == 'MINUS':\n",
    "            series_object[i] = np.array([0, 0, 0, 0, 0, 1, 0])\n",
    "        elif x == 'None':\n",
    "            series_object[i] = np.array([0, 0, 0, 0, 0, 0, 1])\n",
    "    return series_object"
   ]
  },
  {
   "cell_type": "code",
   "execution_count": 32,
   "metadata": {},
   "outputs": [
    {
     "name": "stderr",
     "output_type": "stream",
     "text": [
      "/Users/n.beau/opt/anaconda3/lib/python3.7/site-packages/ipykernel_launcher.py:3: FutureWarning: elementwise comparison failed; returning scalar instead, but in the future will perform elementwise comparison\n",
      "  This is separate from the ipykernel package so we can avoid doing imports until\n",
      "/Users/n.beau/opt/anaconda3/lib/python3.7/site-packages/ipykernel_launcher.py:5: FutureWarning: elementwise comparison failed; returning scalar instead, but in the future will perform elementwise comparison\n",
      "  \"\"\"\n",
      "/Users/n.beau/opt/anaconda3/lib/python3.7/site-packages/ipykernel_launcher.py:7: FutureWarning: elementwise comparison failed; returning scalar instead, but in the future will perform elementwise comparison\n",
      "  import sys\n",
      "/Users/n.beau/opt/anaconda3/lib/python3.7/site-packages/ipykernel_launcher.py:9: FutureWarning: elementwise comparison failed; returning scalar instead, but in the future will perform elementwise comparison\n",
      "  if __name__ == '__main__':\n",
      "/Users/n.beau/opt/anaconda3/lib/python3.7/site-packages/ipykernel_launcher.py:11: FutureWarning: elementwise comparison failed; returning scalar instead, but in the future will perform elementwise comparison\n",
      "  # This is added back by InteractiveShellApp.init_path()\n",
      "/Users/n.beau/opt/anaconda3/lib/python3.7/site-packages/ipykernel_launcher.py:13: FutureWarning: elementwise comparison failed; returning scalar instead, but in the future will perform elementwise comparison\n",
      "  del sys.path[0]\n",
      "/Users/n.beau/opt/anaconda3/lib/python3.7/site-packages/ipykernel_launcher.py:15: FutureWarning: elementwise comparison failed; returning scalar instead, but in the future will perform elementwise comparison\n",
      "  from ipykernel import kernelapp as app\n"
     ]
    }
   ],
   "source": [
    "test = data_cleening_fenetre(datas['fenetre'])"
   ]
  },
  {
   "cell_type": "code",
   "execution_count": 33,
   "metadata": {},
   "outputs": [
    {
     "name": "stdout",
     "output_type": "stream",
     "text": [
      "                  fenetre                                               pile  \\\n",
      "0   [1, 0, 0, 0, 0, 0, 0]                                                 []   \n",
      "1   [0, 0, 1, 0, 0, 0, 0]                                           [NUMBER]   \n",
      "2   [0, 0, 1, 0, 0, 0, 0]                                       [EXPRESSION]   \n",
      "3   [1, 0, 0, 0, 0, 0, 0]                                  [EXPRESSION, DOT]   \n",
      "4   [0, 0, 0, 0, 1, 0, 0]                          [EXPRESSION, DOT, NUMBER]   \n",
      "5   [0, 0, 0, 0, 1, 0, 0]                      [EXPRESSION, DOT, EXPRESSION]   \n",
      "6   [0, 0, 0, 0, 1, 0, 0]                                       [EXPRESSION]   \n",
      "7   [1, 0, 0, 0, 0, 0, 0]                                  [EXPRESSION, ADD]   \n",
      "8   [0, 0, 0, 1, 0, 0, 0]                          [EXPRESSION, ADD, NUMBER]   \n",
      "9   [0, 0, 0, 1, 0, 0, 0]                      [EXPRESSION, ADD, EXPRESSION]   \n",
      "10  [1, 0, 0, 0, 0, 0, 0]              [EXPRESSION, ADD, EXPRESSION, DIVIDE]   \n",
      "11  [0, 0, 0, 0, 0, 1, 0]      [EXPRESSION, ADD, EXPRESSION, DIVIDE, NUMBER]   \n",
      "12  [0, 0, 0, 0, 0, 1, 0]  [EXPRESSION, ADD, EXPRESSION, DIVIDE, EXPRESSION]   \n",
      "13  [0, 0, 0, 0, 0, 1, 0]                      [EXPRESSION, ADD, EXPRESSION]   \n",
      "14  [0, 0, 0, 0, 0, 1, 0]                                       [EXPRESSION]   \n",
      "15  [1, 0, 0, 0, 0, 0, 0]                                [EXPRESSION, MINUS]   \n",
      "16  [0, 0, 0, 0, 0, 0, 1]                        [EXPRESSION, MINUS, NUMBER]   \n",
      "17  [0, 0, 0, 0, 0, 0, 1]                    [EXPRESSION, MINUS, EXPRESSION]   \n",
      "\n",
      "    label  \n",
      "0       1  \n",
      "1       0  \n",
      "2       1  \n",
      "3       1  \n",
      "4       0  \n",
      "5       0  \n",
      "6       1  \n",
      "7       1  \n",
      "8       0  \n",
      "9       1  \n",
      "10      1  \n",
      "11      0  \n",
      "12      0  \n",
      "13      0  \n",
      "14      1  \n",
      "15      1  \n",
      "16      0  \n",
      "17      0  \n"
     ]
    }
   ],
   "source": [
    "print(datas)"
   ]
  },
  {
   "cell_type": "code",
   "execution_count": 55,
   "metadata": {},
   "outputs": [],
   "source": [
    "def data_cleening_pile(series_object):\n",
    "    print(series_object[1])\n",
    "    for i, x in enumerate(series_object):\n",
    "        if x == 'NUMBER':\n",
    "            series_object[i] = np.array([1, 0, 0, 0, 0, 0, 0])\n",
    "        elif x == 'EXPR':\n",
    "            series_object[i] = np.array([0, 1, 0, 0, 0, 0, 0])\n",
    "        elif x == 'DOT':\n",
    "            series_object[i] = np.array([0, 0, 1, 0, 0, 0, 0])\n",
    "        elif x == 'DIVIDE':\n",
    "            series_object[i] = np.array([0, 0, 0, 1, 0, 0, 0])\n",
    "        elif x == 'ADD':\n",
    "            series_object[i] = np.array([0, 0, 0, 0, 1, 0, 0])\n",
    "        elif x == 'MINUS':\n",
    "            series_object[i] = np.array([0, 0, 0, 0, 0, 1, 0])\n",
    "        elif x == 'None':\n",
    "            series_object[i] = np.array([0, 0, 0, 0, 0, 0, 1])\n",
    "    return series_object"
   ]
  },
  {
   "cell_type": "code",
   "execution_count": 56,
   "metadata": {},
   "outputs": [
    {
     "name": "stdout",
     "output_type": "stream",
     "text": [
      "['NUMBER']\n",
      "0                                                    []\n",
      "1                                              [NUMBER]\n",
      "2                                          [EXPRESSION]\n",
      "3                                     [EXPRESSION, DOT]\n",
      "4                             [EXPRESSION, DOT, NUMBER]\n",
      "5                         [EXPRESSION, DOT, EXPRESSION]\n",
      "6                                          [EXPRESSION]\n",
      "7                                     [EXPRESSION, ADD]\n",
      "8                             [EXPRESSION, ADD, NUMBER]\n",
      "9                         [EXPRESSION, ADD, EXPRESSION]\n",
      "10                [EXPRESSION, ADD, EXPRESSION, DIVIDE]\n",
      "11        [EXPRESSION, ADD, EXPRESSION, DIVIDE, NUMBER]\n",
      "12    [EXPRESSION, ADD, EXPRESSION, DIVIDE, EXPRESSION]\n",
      "13                        [EXPRESSION, ADD, EXPRESSION]\n",
      "14                                         [EXPRESSION]\n",
      "15                                  [EXPRESSION, MINUS]\n",
      "16                          [EXPRESSION, MINUS, NUMBER]\n",
      "17                      [EXPRESSION, MINUS, EXPRESSION]\n",
      "Name: pile, dtype: object\n"
     ]
    }
   ],
   "source": [
    "print(data_cleening_pile(datas['pile']))"
   ]
  },
  {
   "cell_type": "code",
   "execution_count": null,
   "metadata": {},
   "outputs": [],
   "source": [
    "print(datas)"
   ]
  }
 ],
 "metadata": {
  "kernelspec": {
   "display_name": "Python 3",
   "language": "python",
   "name": "python3"
  },
  "language_info": {
   "codemirror_mode": {
    "name": "ipython",
    "version": 3
   },
   "file_extension": ".py",
   "mimetype": "text/x-python",
   "name": "python",
   "nbconvert_exporter": "python",
   "pygments_lexer": "ipython3",
   "version": "3.7.4"
  }
 },
 "nbformat": 4,
 "nbformat_minor": 2
}
