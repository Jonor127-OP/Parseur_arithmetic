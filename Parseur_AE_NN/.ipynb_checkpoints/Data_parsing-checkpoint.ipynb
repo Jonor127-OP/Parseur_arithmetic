{
 "cells": [
  {
   "cell_type": "markdown",
   "metadata": {},
   "source": [
    "# Notebook création données parseur arithmétique"
   ]
  },
  {
   "cell_type": "code",
   "execution_count": 1,
   "metadata": {},
   "outputs": [],
   "source": [
    "import numpy as np\n",
    "import pandas as pd\n",
    "\n",
    "import random\n",
    "\n",
    "import sys\n",
    "sys.path.append('/Users/n.beau/Desktop/Parseur_arithmetic')\n",
    "\n",
    "from parseur_AE_simple.analysis_syntax_AE import Parser\n",
    "from parseur_AE_simple.analysis_lexical_AE import Lexical\n",
    "\n",
    "from sklearn import preprocessing\n",
    "\n",
    "import torch\n",
    "\n",
    "import torch.nn as nn\n",
    "import torch.nn.functional as F\n",
    "import torch.optim as optim"
   ]
  },
  {
   "cell_type": "code",
   "execution_count": 2,
   "metadata": {},
   "outputs": [
    {
     "name": "stdout",
     "output_type": "stream",
     "text": [
      "L'expression est valide\n"
     ]
    }
   ],
   "source": [
    "test = Lexical('2*2+2/2-2')\n",
    "testparse = Parser(test.lexicalAnalysis())\n",
    "testparse.parsing()"
   ]
  },
  {
   "cell_type": "code",
   "execution_count": 3,
   "metadata": {},
   "outputs": [],
   "source": [
    "action = np.array(testparse.action)"
   ]
  },
  {
   "cell_type": "code",
   "execution_count": 4,
   "metadata": {},
   "outputs": [
    {
     "name": "stdout",
     "output_type": "stream",
     "text": [
      "['NUMBER' 'DOT' 'DOT' 'NUMBER' 'ADD' 'ADD' 'ADD' 'NUMBER' 'DIVIDE'\n",
      " 'DIVIDE' 'NUMBER' 'MINUS' 'MINUS' 'MINUS' 'MINUS' 'NUMBER' 'None' 'None']\n"
     ]
    }
   ],
   "source": [
    "def fenetre_test(fenetre):\n",
    "    fenetre_return = list()\n",
    "    for x in fenetre:\n",
    "        if x == None:\n",
    "            fenetre_return.append('None')\n",
    "        else: \n",
    "            fenetre_return.append(x[0])\n",
    "    return np.array(fenetre_return)\n",
    "\n",
    "fenetre = np.array(fenetre_test(testparse.fenetre_stock))\n",
    "print(fenetre)"
   ]
  },
  {
   "cell_type": "code",
   "execution_count": 5,
   "metadata": {},
   "outputs": [],
   "source": [
    "pile_stock = np.array(testparse.pile_stock)"
   ]
  },
  {
   "cell_type": "code",
   "execution_count": 6,
   "metadata": {},
   "outputs": [
    {
     "name": "stdout",
     "output_type": "stream",
     "text": [
      "[1 0 1 1 0 0 1 1 0 1 1 0 0 0 1 1 0 0]\n"
     ]
    }
   ],
   "source": [
    "# integer encode of SHIFT/REDUCE\n",
    "label_encoder = preprocessing.LabelEncoder()\n",
    "integer_encoded = label_encoder.fit_transform(action)\n",
    "print(integer_encoded)"
   ]
  },
  {
   "cell_type": "markdown",
   "metadata": {},
   "source": [
    "# il faut cleener la forme des données avant de les mettre dans le dataset"
   ]
  },
  {
   "cell_type": "code",
   "execution_count": 241,
   "metadata": {},
   "outputs": [],
   "source": [
    "datas = pd.DataFrame(data = {'fenetre':fenetre, 'pile':pile_stock, 'label':integer_encoded})"
   ]
  },
  {
   "cell_type": "code",
   "execution_count": 242,
   "metadata": {},
   "outputs": [
    {
     "name": "stdout",
     "output_type": "stream",
     "text": [
      "   fenetre                                               pile  label\n",
      "0   NUMBER                                                 []      1\n",
      "1      DOT                                           [NUMBER]      0\n",
      "2      DOT                                       [EXPRESSION]      1\n",
      "3   NUMBER                                  [EXPRESSION, DOT]      1\n",
      "4      ADD                          [EXPRESSION, DOT, NUMBER]      0\n",
      "5      ADD                      [EXPRESSION, DOT, EXPRESSION]      0\n",
      "6      ADD                                       [EXPRESSION]      1\n",
      "7   NUMBER                                  [EXPRESSION, ADD]      1\n",
      "8   DIVIDE                          [EXPRESSION, ADD, NUMBER]      0\n",
      "9   DIVIDE                      [EXPRESSION, ADD, EXPRESSION]      1\n",
      "10  NUMBER              [EXPRESSION, ADD, EXPRESSION, DIVIDE]      1\n",
      "11   MINUS      [EXPRESSION, ADD, EXPRESSION, DIVIDE, NUMBER]      0\n",
      "12   MINUS  [EXPRESSION, ADD, EXPRESSION, DIVIDE, EXPRESSION]      0\n",
      "13   MINUS                      [EXPRESSION, ADD, EXPRESSION]      0\n",
      "14   MINUS                                       [EXPRESSION]      1\n",
      "15  NUMBER                                [EXPRESSION, MINUS]      1\n",
      "16    None                        [EXPRESSION, MINUS, NUMBER]      0\n",
      "17    None                    [EXPRESSION, MINUS, EXPRESSION]      0\n"
     ]
    }
   ],
   "source": [
    "print(datas)"
   ]
  },
  {
   "cell_type": "code",
   "execution_count": 52,
   "metadata": {},
   "outputs": [
    {
     "name": "stdout",
     "output_type": "stream",
     "text": [
      "[array([1, 0, 0, 0, 0, 0, 0]), array([0, 0, 1, 0, 0, 0, 0]), array([0, 0, 1, 0, 0, 0, 0]), array([1, 0, 0, 0, 0, 0, 0]), array([0, 0, 0, 0, 1, 0, 0]), array([0, 0, 0, 0, 1, 0, 0]), array([0, 0, 0, 0, 1, 0, 0]), array([1, 0, 0, 0, 0, 0, 0]), array([0, 0, 0, 1, 0, 0, 0]), array([0, 0, 0, 1, 0, 0, 0]), array([1, 0, 0, 0, 0, 0, 0]), array([0, 0, 0, 0, 0, 1, 0]), array([0, 0, 0, 0, 0, 1, 0]), array([0, 0, 0, 0, 0, 1, 0]), array([0, 0, 0, 0, 0, 1, 0]), array([1, 0, 0, 0, 0, 0, 0]), array([0, 0, 0, 0, 0, 0, 1]), array([0, 0, 0, 0, 0, 0, 1])]\n"
     ]
    }
   ],
   "source": [
    "def data_collect_fenetre(series_object):\n",
    "    series_fenetre = list()\n",
    "    for i, x in enumerate(series_object):\n",
    "        if x == 'NUMBER':\n",
    "            series_fenetre.append(np.array([1, 0, 0, 0, 0, 0, 0]))\n",
    "        elif x == 'EXPRESSION':\n",
    "            series_fenetre.append(np.array([0, 1, 0, 0, 0, 0, 0]))\n",
    "        elif x == 'DOT':\n",
    "            series_fenetre.append(np.array([0, 0, 1, 0, 0, 0, 0]))\n",
    "        elif x == 'DIVIDE':\n",
    "            series_fenetre.append(np.array([0, 0, 0, 1, 0, 0, 0]))\n",
    "        elif x == 'ADD':\n",
    "            series_fenetre.append(np.array([0, 0, 0, 0, 1, 0, 0]))\n",
    "        elif x == 'MINUS':\n",
    "            series_fenetre.append(np.array([0, 0, 0, 0, 0, 1, 0]))\n",
    "        elif x == 'None':\n",
    "            series_fenetre.append(np.array([0, 0, 0, 0, 0, 0, 1]))\n",
    "    return series_fenetre\n",
    "\n",
    "print(data_collect_fenetre(datas['fenetre']))"
   ]
  },
  {
   "cell_type": "code",
   "execution_count": 243,
   "metadata": {},
   "outputs": [
    {
     "name": "stdout",
     "output_type": "stream",
     "text": [
      "[[array([0, 0, 0, 0, 0, 0, 1])], [array([1, 0, 0, 0, 0, 0, 0])], [array([0, 1, 0, 0, 0, 0, 0])], [array([0, 1, 0, 0, 0, 0, 0]), array([0, 0, 1, 0, 0, 0, 0])], [array([0, 1, 0, 0, 0, 0, 0]), array([0, 0, 1, 0, 0, 0, 0]), array([1, 0, 0, 0, 0, 0, 0])], [array([0, 1, 0, 0, 0, 0, 0]), array([0, 0, 1, 0, 0, 0, 0]), array([0, 1, 0, 0, 0, 0, 0])], [array([0, 1, 0, 0, 0, 0, 0])], [array([0, 1, 0, 0, 0, 0, 0]), array([0, 0, 0, 0, 1, 0, 0])], [array([0, 1, 0, 0, 0, 0, 0]), array([0, 0, 0, 0, 1, 0, 0]), array([1, 0, 0, 0, 0, 0, 0])], [array([0, 1, 0, 0, 0, 0, 0]), array([0, 0, 0, 0, 1, 0, 0]), array([0, 1, 0, 0, 0, 0, 0])], [array([0, 1, 0, 0, 0, 0, 0]), array([0, 0, 0, 0, 1, 0, 0]), array([0, 1, 0, 0, 0, 0, 0]), array([0, 0, 0, 1, 0, 0, 0])], [array([0, 1, 0, 0, 0, 0, 0]), array([0, 0, 0, 0, 1, 0, 0]), array([0, 1, 0, 0, 0, 0, 0]), array([0, 0, 0, 1, 0, 0, 0]), array([1, 0, 0, 0, 0, 0, 0])], [array([0, 1, 0, 0, 0, 0, 0]), array([0, 0, 0, 0, 1, 0, 0]), array([0, 1, 0, 0, 0, 0, 0]), array([0, 0, 0, 1, 0, 0, 0]), array([0, 1, 0, 0, 0, 0, 0])], [array([0, 1, 0, 0, 0, 0, 0]), array([0, 0, 0, 0, 1, 0, 0]), array([0, 1, 0, 0, 0, 0, 0])], [array([0, 1, 0, 0, 0, 0, 0])], [array([0, 1, 0, 0, 0, 0, 0]), array([0, 0, 0, 0, 0, 1, 0])], [array([0, 1, 0, 0, 0, 0, 0]), array([0, 0, 0, 0, 0, 1, 0]), array([1, 0, 0, 0, 0, 0, 0])], [array([0, 1, 0, 0, 0, 0, 0]), array([0, 0, 0, 0, 0, 1, 0]), array([0, 1, 0, 0, 0, 0, 0])]]\n"
     ]
    }
   ],
   "source": [
    "def data_collect_pile(series_object):\n",
    "    series_pile = list()\n",
    "    for x in series_object:\n",
    "        series_subpile = list()\n",
    "        for y in x:\n",
    "            if y == 'NUMBER':\n",
    "                series_subpile.append(np.array([1, 0, 0, 0, 0, 0, 0]))\n",
    "            elif y == 'EXPRESSION':\n",
    "                series_subpile.append(np.array([0, 1, 0, 0, 0, 0, 0]))\n",
    "            elif y == 'DOT':\n",
    "                series_subpile.append(np.array([0, 0, 1, 0, 0, 0, 0]))\n",
    "            elif y == 'DIVIDE':\n",
    "                series_subpile.append(np.array([0, 0, 0, 1, 0, 0, 0]))\n",
    "            elif y == 'ADD':\n",
    "                series_subpile.append(np.array([0, 0, 0, 0, 1, 0, 0]))\n",
    "            elif y == 'MINUS':\n",
    "                series_subpile.append(np.array([0, 0, 0, 0, 0, 1, 0]))\n",
    "        if series_subpile == []:\n",
    "            series_pile.append([np.array([0, 0, 0, 0, 0, 0, 1])])\n",
    "        else:\n",
    "            series_pile.append(series_subpile)\n",
    "    return series_pile\n",
    "\n",
    "print(data_collect_pile(datas['pile']))"
   ]
  },
  {
   "cell_type": "code",
   "execution_count": 37,
   "metadata": {},
   "outputs": [],
   "source": [
    "operations = [('ADD','+'), ('DOT', '*'), ('DIVIDE', '/'), ('MINUS', '-')]\n",
    "number = [('NUMBER', str(i)) for i in range(10)]\n",
    "\n",
    "def generator(size):\n",
    "    dataset = list()\n",
    "    for i in range(size):\n",
    "        dataset.append(random.choice(number))\n",
    "        dataset.append(random.choice(operations))\n",
    "    dataset.append(random.choice(number))\n",
    "    return dataset"
   ]
  },
  {
   "cell_type": "code",
   "execution_count": 38,
   "metadata": {},
   "outputs": [
    {
     "data": {
      "text/plain": [
       "[('NUMBER', '7'),\n",
       " ('DOT', '*'),\n",
       " ('NUMBER', '0'),\n",
       " ('DOT', '*'),\n",
       " ('NUMBER', '9'),\n",
       " ('MINUS', '-'),\n",
       " ('NUMBER', '6'),\n",
       " ('DOT', '*'),\n",
       " ('NUMBER', '3'),\n",
       " ('DIVIDE', '/'),\n",
       " ('NUMBER', '4'),\n",
       " ('MINUS', '-'),\n",
       " ('NUMBER', '5'),\n",
       " ('MINUS', '-'),\n",
       " ('NUMBER', '0'),\n",
       " ('MINUS', '-'),\n",
       " ('NUMBER', '1'),\n",
       " ('DOT', '*'),\n",
       " ('NUMBER', '8'),\n",
       " ('DOT', '*'),\n",
       " ('NUMBER', '7'),\n",
       " ('DIVIDE', '/'),\n",
       " ('NUMBER', '3')]"
      ]
     },
     "execution_count": 38,
     "metadata": {},
     "output_type": "execute_result"
    }
   ],
   "source": [
    "generator(11)"
   ]
  },
  {
   "cell_type": "code",
   "execution_count": 216,
   "metadata": {},
   "outputs": [
    {
     "name": "stdout",
     "output_type": "stream",
     "text": [
      "[array([0, 0, 0, 0, 0, 0, 1, 0, 0, 0, 0, 0, 0, 0, 0, 0, 0, 0, 0, 0, 0, 0,\n",
      "       0, 0, 0, 0, 0, 0, 0, 0, 0, 0, 0, 0, 0])]\n"
     ]
    }
   ],
   "source": [
    "def data_preprocessing_pile(list_pile):\n",
    "    for index in range(len(list_pile)):\n",
    "        size = len(list_pile[index])\n",
    "        concatenation = np.concatenate([list_pile[index][i] for i in range(size)])\n",
    "        while size < 5:\n",
    "            concatenation = np.concatenate((concatenation, np.array([0, 0, 0, 0, 0, 0, 0])))\n",
    "            size += 1\n",
    "        list_pile[index] = concatenation\n",
    "    return list_pile\n",
    "\n",
    "test = data_preprocessing_pile(data_collect_pile(datas['pile']))\n",
    "print(test)"
   ]
  },
  {
   "cell_type": "code",
   "execution_count": 225,
   "metadata": {},
   "outputs": [
    {
     "name": "stdout",
     "output_type": "stream",
     "text": [
      "[array([1, 0, 0, 0, 0, 0, 0, 0, 0, 0, 0, 0, 0, 1, 0, 0, 0, 0, 0, 0, 0, 0,\n",
      "       0, 0, 0, 0, 0, 0, 0, 0, 0, 0, 0, 0, 0, 0, 0, 0, 0, 0, 0, 0]), array([0, 0, 1, 0, 0, 0, 0, 1, 0, 0, 0, 0, 0, 0, 0, 0, 0, 0, 0, 0, 0, 0,\n",
      "       0, 0, 0, 0, 0, 0, 0, 0, 0, 0, 0, 0, 0, 0, 0, 0, 0, 0, 0, 0]), array([0, 0, 1, 0, 0, 0, 0, 0, 1, 0, 0, 0, 0, 0, 0, 0, 0, 0, 0, 0, 0, 0,\n",
      "       0, 0, 0, 0, 0, 0, 0, 0, 0, 0, 0, 0, 0, 0, 0, 0, 0, 0, 0, 0]), array([1, 0, 0, 0, 0, 0, 0, 0, 1, 0, 0, 0, 0, 0, 0, 0, 1, 0, 0, 0, 0, 0,\n",
      "       0, 0, 0, 0, 0, 0, 0, 0, 0, 0, 0, 0, 0, 0, 0, 0, 0, 0, 0, 0]), array([0, 0, 0, 0, 1, 0, 0, 0, 1, 0, 0, 0, 0, 0, 0, 0, 1, 0, 0, 0, 0, 1,\n",
      "       0, 0, 0, 0, 0, 0, 0, 0, 0, 0, 0, 0, 0, 0, 0, 0, 0, 0, 0, 0]), array([0, 0, 0, 0, 1, 0, 0, 0, 1, 0, 0, 0, 0, 0, 0, 0, 1, 0, 0, 0, 0, 0,\n",
      "       1, 0, 0, 0, 0, 0, 0, 0, 0, 0, 0, 0, 0, 0, 0, 0, 0, 0, 0, 0]), array([0, 0, 0, 0, 1, 0, 0, 0, 1, 0, 0, 0, 0, 0, 0, 0, 0, 0, 0, 0, 0, 0,\n",
      "       0, 0, 0, 0, 0, 0, 0, 0, 0, 0, 0, 0, 0, 0, 0, 0, 0, 0, 0, 0]), array([1, 0, 0, 0, 0, 0, 0, 0, 1, 0, 0, 0, 0, 0, 0, 0, 0, 0, 1, 0, 0, 0,\n",
      "       0, 0, 0, 0, 0, 0, 0, 0, 0, 0, 0, 0, 0, 0, 0, 0, 0, 0, 0, 0]), array([0, 0, 0, 1, 0, 0, 0, 0, 1, 0, 0, 0, 0, 0, 0, 0, 0, 0, 1, 0, 0, 1,\n",
      "       0, 0, 0, 0, 0, 0, 0, 0, 0, 0, 0, 0, 0, 0, 0, 0, 0, 0, 0, 0]), array([0, 0, 0, 1, 0, 0, 0, 0, 1, 0, 0, 0, 0, 0, 0, 0, 0, 0, 1, 0, 0, 0,\n",
      "       1, 0, 0, 0, 0, 0, 0, 0, 0, 0, 0, 0, 0, 0, 0, 0, 0, 0, 0, 0]), array([1, 0, 0, 0, 0, 0, 0, 0, 1, 0, 0, 0, 0, 0, 0, 0, 0, 0, 1, 0, 0, 0,\n",
      "       1, 0, 0, 0, 0, 0, 0, 0, 0, 1, 0, 0, 0, 0, 0, 0, 0, 0, 0, 0]), array([0, 0, 0, 0, 0, 1, 0, 0, 1, 0, 0, 0, 0, 0, 0, 0, 0, 0, 1, 0, 0, 0,\n",
      "       1, 0, 0, 0, 0, 0, 0, 0, 0, 1, 0, 0, 0, 1, 0, 0, 0, 0, 0, 0]), array([0, 0, 0, 0, 0, 1, 0, 0, 1, 0, 0, 0, 0, 0, 0, 0, 0, 0, 1, 0, 0, 0,\n",
      "       1, 0, 0, 0, 0, 0, 0, 0, 0, 1, 0, 0, 0, 0, 1, 0, 0, 0, 0, 0]), array([0, 0, 0, 0, 0, 1, 0, 0, 1, 0, 0, 0, 0, 0, 0, 0, 0, 0, 1, 0, 0, 0,\n",
      "       1, 0, 0, 0, 0, 0, 0, 0, 0, 0, 0, 0, 0, 0, 0, 0, 0, 0, 0, 0]), array([0, 0, 0, 0, 0, 1, 0, 0, 1, 0, 0, 0, 0, 0, 0, 0, 0, 0, 0, 0, 0, 0,\n",
      "       0, 0, 0, 0, 0, 0, 0, 0, 0, 0, 0, 0, 0, 0, 0, 0, 0, 0, 0, 0]), array([1, 0, 0, 0, 0, 0, 0, 0, 1, 0, 0, 0, 0, 0, 0, 0, 0, 0, 0, 1, 0, 0,\n",
      "       0, 0, 0, 0, 0, 0, 0, 0, 0, 0, 0, 0, 0, 0, 0, 0, 0, 0, 0, 0]), array([0, 0, 0, 0, 0, 0, 1, 0, 1, 0, 0, 0, 0, 0, 0, 0, 0, 0, 0, 1, 0, 1,\n",
      "       0, 0, 0, 0, 0, 0, 0, 0, 0, 0, 0, 0, 0, 0, 0, 0, 0, 0, 0, 0]), array([0, 0, 0, 0, 0, 0, 1, 0, 1, 0, 0, 0, 0, 0, 0, 0, 0, 0, 0, 1, 0, 0,\n",
      "       1, 0, 0, 0, 0, 0, 0, 0, 0, 0, 0, 0, 0, 0, 0, 0, 0, 0, 0, 0])]\n"
     ]
    }
   ],
   "source": [
    "def create_dataset(dataframe):\n",
    "    concatenation = list()\n",
    "    fenetre = data_collect_fenetre(datas['fenetre'])\n",
    "    pile = data_preprocessing_pile(data_collect_pile(datas['pile']))\n",
    "    for i in range(len(fenetre)):\n",
    "        concatenation.append(np.concatenate([fenetre[i], pile[i]]))\n",
    "    return concatenation\n",
    "\n",
    "test = create_dataset(dataframe)\n",
    "print(test)"
   ]
  },
  {
   "cell_type": "code",
   "execution_count": 240,
   "metadata": {},
   "outputs": [
    {
     "name": "stdout",
     "output_type": "stream",
     "text": [
      "L'expression est valide\n",
      "L'expression est valide\n",
      "L'expression est valide\n",
      "L'expression est valide\n",
      "L'expression est valide\n",
      "L'expression est valide\n",
      "L'expression est valide\n",
      "L'expression est valide\n",
      "L'expression est valide\n",
      "L'expression est valide\n",
      "L'expression est valide\n",
      "L'expression est valide\n",
      "L'expression est valide\n",
      "L'expression est valide\n",
      "L'expression est valide\n",
      "L'expression est valide\n",
      "L'expression est valide\n",
      "L'expression est valide\n",
      "L'expression est valide\n",
      "L'expression est valide\n",
      "L'expression est valide\n",
      "L'expression est valide\n",
      "L'expression est valide\n",
      "L'expression est valide\n",
      "L'expression est valide\n",
      "L'expression est valide\n",
      "L'expression est valide\n",
      "L'expression est valide\n",
      "L'expression est valide\n",
      "L'expression est valide\n",
      "L'expression est valide\n",
      "L'expression est valide\n",
      "L'expression est valide\n",
      "L'expression est valide\n",
      "L'expression est valide\n",
      "L'expression est valide\n",
      "L'expression est valide\n",
      "L'expression est valide\n",
      "L'expression est valide\n",
      "L'expression est valide\n",
      "L'expression est valide\n",
      "L'expression est valide\n",
      "L'expression est valide\n",
      "L'expression est valide\n",
      "L'expression est valide\n",
      "L'expression est valide\n",
      "L'expression est valide\n",
      "L'expression est valide\n",
      "L'expression est valide\n",
      "L'expression est valide\n",
      "L'expression est valide\n",
      "L'expression est valide\n",
      "L'expression est valide\n",
      "L'expression est valide\n",
      "L'expression est valide\n",
      "L'expression est valide\n",
      "L'expression est valide\n",
      "L'expression est valide\n",
      "L'expression est valide\n",
      "L'expression est valide\n",
      "L'expression est valide\n",
      "L'expression est valide\n",
      "L'expression est valide\n",
      "L'expression est valide\n",
      "L'expression est valide\n",
      "L'expression est valide\n",
      "L'expression est valide\n",
      "L'expression est valide\n",
      "L'expression est valide\n",
      "L'expression est valide\n",
      "L'expression est valide\n",
      "L'expression est valide\n",
      "L'expression est valide\n",
      "L'expression est valide\n",
      "L'expression est valide\n",
      "L'expression est valide\n",
      "L'expression est valide\n",
      "L'expression est valide\n",
      "L'expression est valide\n",
      "L'expression est valide\n",
      "L'expression est valide\n",
      "L'expression est valide\n",
      "L'expression est valide\n",
      "L'expression est valide\n",
      "L'expression est valide\n",
      "L'expression est valide\n",
      "L'expression est valide\n",
      "L'expression est valide\n",
      "L'expression est valide\n",
      "L'expression est valide\n",
      "L'expression est valide\n",
      "L'expression est valide\n",
      "L'expression est valide\n",
      "L'expression est valide\n",
      "L'expression est valide\n",
      "L'expression est valide\n",
      "L'expression est valide\n",
      "L'expression est valide\n",
      "L'expression est valide\n",
      "L'expression est valide\n"
     ]
    }
   ],
   "source": [
    "def create_dataframe(size_dataframe, size_example):\n",
    "    data = pd.DataFrame(columns=['fenetre', 'pile', 'label'])\n",
    "    for i in range(size_dataframe):\n",
    "        parse_example = Parser(generator(size_example))\n",
    "        parse_example.parsing()\n",
    "        example = pd.DataFrame({'fenetre':np.array(fenetre_test(parse_example.fenetre_stock)), \n",
    "                        'pile':np.array(parse_example.pile_stock),\n",
    "                        'label':np.array(parse_example.action)})\n",
    "        data = data.append(example)\n",
    "    return data\n",
    "\n",
    "A = create_dataframe(100, 5)"
   ]
  },
  {
   "cell_type": "code",
   "execution_count": null,
   "metadata": {},
   "outputs": [],
   "source": []
  },
  {
   "cell_type": "code",
   "execution_count": null,
   "metadata": {},
   "outputs": [],
   "source": []
  },
  {
   "cell_type": "code",
   "execution_count": null,
   "metadata": {},
   "outputs": [],
   "source": []
  },
  {
   "cell_type": "code",
   "execution_count": null,
   "metadata": {},
   "outputs": [],
   "source": []
  }
 ],
 "metadata": {
  "kernelspec": {
   "display_name": "Python 3",
   "language": "python",
   "name": "python3"
  },
  "language_info": {
   "codemirror_mode": {
    "name": "ipython",
    "version": 3
   },
   "file_extension": ".py",
   "mimetype": "text/x-python",
   "name": "python",
   "nbconvert_exporter": "python",
   "pygments_lexer": "ipython3",
   "version": "3.7.4"
  }
 },
 "nbformat": 4,
 "nbformat_minor": 2
}
